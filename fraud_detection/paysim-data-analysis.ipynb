{
 "cells": [
  {
   "cell_type": "code",
   "execution_count": 4,
   "metadata": {
    "ExecuteTime": {
     "end_time": "2023-07-29T09:53:38.435250900Z",
     "start_time": "2023-07-29T09:53:38.193658400Z"
    }
   },
   "outputs": [],
   "source": [
    "import numpy as np\n",
    "import pandas as pd\n",
    "import matplotlib as plt\n",
    "import seaborn as sns"
   ]
  },
  {
   "cell_type": "code",
   "execution_count": 5,
   "metadata": {
    "ExecuteTime": {
     "end_time": "2023-07-29T09:53:53.585176100Z",
     "start_time": "2023-07-29T09:53:38.208184300Z"
    }
   },
   "outputs": [
    {
     "name": "stdout",
     "output_type": "stream",
     "text": [
      "   step      type    amount     nameOrig  oldbalanceOrg  newbalanceOrig  \\\n",
      "0     1   PAYMENT   9839.64  C1231006815       170136.0       160296.36   \n",
      "1     1   PAYMENT   1864.28  C1666544295        21249.0        19384.72   \n",
      "2     1  TRANSFER    181.00  C1305486145          181.0            0.00   \n",
      "3     1  CASH_OUT    181.00   C840083671          181.0            0.00   \n",
      "4     1   PAYMENT  11668.14  C2048537720        41554.0        29885.86   \n",
      "\n",
      "      nameDest  oldbalanceDest  newbalanceDest  isFraud  isFlaggedFraud  \n",
      "0  M1979787155             0.0             0.0        0               0  \n",
      "1  M2044282225             0.0             0.0        0               0  \n",
      "2   C553264065             0.0             0.0        1               0  \n",
      "3    C38997010         21182.0             0.0        1               0  \n",
      "4  M1230701703             0.0             0.0        0               0  \n"
     ]
    }
   ],
   "source": [
    "df=pd.read_csv('PS_20174392719_1491204439457_log.csv')\n",
    "print(df.head())"
   ]
  },
  {
   "cell_type": "code",
   "execution_count": 6,
   "metadata": {
    "ExecuteTime": {
     "end_time": "2023-07-29T09:53:57.359274200Z",
     "start_time": "2023-07-29T09:53:53.587162500Z"
    }
   },
   "outputs": [
    {
     "data": {
      "text/plain": "False"
     },
     "execution_count": 6,
     "metadata": {},
     "output_type": "execute_result"
    }
   ],
   "source": [
    "df.isnull().values.any()"
   ]
  },
  {
   "cell_type": "code",
   "execution_count": 7,
   "metadata": {
    "ExecuteTime": {
     "end_time": "2023-07-29T09:53:58.737494500Z",
     "start_time": "2023-07-29T09:53:57.364265Z"
    }
   },
   "outputs": [
    {
     "name": "stdout",
     "output_type": "stream",
     "text": [
      "Fraudulent Transfers 4097\n",
      "Fraudulent Cash Outs 4116\n"
     ]
    }
   ],
   "source": [
    "transfer=df.loc[(df.isFraud==1) & (df.type=='TRANSFER')]\n",
    "cash_out=df.loc[(df.isFraud==1) & (df.type=='CASH_OUT')]\n",
    "print('Fraudulent Transfers',len(transfer))\n",
    "print('Fraudulent Cash Outs',len(cash_out))"
   ]
  },
  {
   "cell_type": "code",
   "execution_count": 8,
   "metadata": {
    "ExecuteTime": {
     "end_time": "2023-07-29T09:53:58.812504200Z",
     "start_time": "2023-07-29T09:53:58.741496700Z"
    }
   },
   "outputs": [
    {
     "name": "stdout",
     "output_type": "stream",
     "text": [
      "2736446    TRANSFER\n",
      "Name: type, dtype: object\n"
     ]
    }
   ],
   "source": [
    "print(df.loc[df.isFlaggedFraud==1].type.drop_duplicates())"
   ]
  },
  {
   "cell_type": "code",
   "execution_count": 9,
   "metadata": {
    "ExecuteTime": {
     "end_time": "2023-07-29T09:53:58.902838Z",
     "start_time": "2023-07-29T09:53:58.783959100Z"
    }
   },
   "outputs": [
    {
     "name": "stdout",
     "output_type": "stream",
     "text": [
      "Transfers where isFraud is set 4097\n",
      "Tranfers where isFlaggedFraud set 16\n"
     ]
    }
   ],
   "source": [
    "print(\"Transfers where isFraud is set\",len(transfer))\n",
    "print(\"Tranfers where isFlaggedFraud set\",len(df.loc[df.isFlaggedFraud==1]))"
   ]
  },
  {
   "cell_type": "code",
   "execution_count": 10,
   "metadata": {
    "ExecuteTime": {
     "end_time": "2023-07-29T09:53:59.637066300Z",
     "start_time": "2023-07-29T09:53:58.814505100Z"
    }
   },
   "outputs": [
    {
     "name": "stdout",
     "output_type": "stream",
     "text": [
      "Max amount transfered when isFlaggedFraud is not set 92445516.64\n"
     ]
    }
   ],
   "source": [
    "dftype=df.loc[df.type=='TRANSFER']\n",
    "flag_set=dftype.loc[dftype.isFlaggedFraud==1]\n",
    "flag_not_set=dftype.loc[dftype.isFlaggedFraud==0]\n",
    "amt_flag_unset=flag_not_set.amount.max()\n",
    "print(\"Max amount transfered when isFlaggedFraud is not set\",amt_flag_unset)"
   ]
  },
  {
   "cell_type": "code",
   "execution_count": 11,
   "metadata": {
    "ExecuteTime": {
     "end_time": "2023-07-29T09:53:59.696207Z",
     "start_time": "2023-07-29T09:53:59.641070Z"
    }
   },
   "outputs": [
    {
     "name": "stdout",
     "output_type": "stream",
     "text": [
      "2736446    0.0\n",
      "Name: oldbalanceDest, dtype: float64\n",
      "2736446    0.0\n",
      "Name: newbalanceDest, dtype: float64\n"
     ]
    }
   ],
   "source": [
    "old_balance=dftype.loc[dftype.isFlaggedFraud==1].oldbalanceDest.drop_duplicates()\n",
    "new_balance=dftype.loc[dftype.isFlaggedFraud==1].newbalanceDest.drop_duplicates()\n",
    "print(old_balance)\n",
    "print(new_balance)"
   ]
  },
  {
   "cell_type": "code",
   "execution_count": 12,
   "metadata": {
    "ExecuteTime": {
     "end_time": "2023-07-29T09:53:59.697205500Z",
     "start_time": "2023-07-29T09:53:59.670066900Z"
    }
   },
   "outputs": [
    {
     "name": "stdout",
     "output_type": "stream",
     "text": [
      "4158\n"
     ]
    }
   ],
   "source": [
    "print(len(dftype.loc[(dftype.isFlaggedFraud==0) & (dftype.oldbalanceDest==dftype.newbalanceDest)]))"
   ]
  },
  {
   "cell_type": "code",
   "execution_count": 13,
   "metadata": {
    "ExecuteTime": {
     "end_time": "2023-07-29T09:53:59.828442100Z",
     "start_time": "2023-07-29T09:53:59.700208300Z"
    }
   },
   "outputs": [
    {
     "name": "stdout",
     "output_type": "stream",
     "text": [
      "353874.22 19585040.37\n",
      "0.0 575667.54\n"
     ]
    }
   ],
   "source": [
    "print(flag_set.oldbalanceOrg.min(),flag_set.oldbalanceOrg.max())\n",
    "print(flag_not_set.loc[flag_not_set.oldbalanceOrg==flag_not_set.newbalanceOrig].oldbalanceOrg.min(),flag_not_set.loc[flag_not_set.oldbalanceOrg==flag_not_set.newbalanceOrig].oldbalanceOrg.max())"
   ]
  },
  {
   "cell_type": "code",
   "execution_count": 14,
   "metadata": {
    "ExecuteTime": {
     "end_time": "2023-07-29T09:54:06.414096400Z",
     "start_time": "2023-07-29T09:53:59.814235300Z"
    }
   },
   "outputs": [
    {
     "name": "stdout",
     "output_type": "stream",
     "text": [
      "isFlaggedFraud is set and no duplicates 16\n",
      "Number of duplicates when isFlaggedFraud is not set 9313\n"
     ]
    }
   ],
   "source": [
    "print(\"isFlaggedFraud is set and no duplicates\",len(df.loc[df.isFlaggedFraud==1].nameOrig.drop_duplicates()))\n",
    "print(\"Number of duplicates when isFlaggedFraud is not set\",len(df.loc[df.isFlaggedFraud==0].nameOrig)-len(df.loc[df.isFlaggedFraud==0].nameOrig.drop_duplicates()))"
   ]
  },
  {
   "cell_type": "markdown",
   "metadata": {},
   "source": [
    "Since there does not exist any correlation between isFlaggedFraud and other variables, we can treat this feature as insignificant and discard it from the dataset without any loss."
   ]
  },
  {
   "cell_type": "code",
   "execution_count": 15,
   "metadata": {
    "ExecuteTime": {
     "end_time": "2023-07-29T09:54:08.084029800Z",
     "start_time": "2023-07-29T09:54:06.394098500Z"
    }
   },
   "outputs": [
    {
     "name": "stdout",
     "output_type": "stream",
     "text": [
      "Cash in transactions where merchant pays\n",
      "False\n"
     ]
    }
   ],
   "source": [
    "print(\"Cash in transactions where merchant pays\")\n",
    "print(df.loc[df.type=='CASH_IN'].nameOrig.str.contains('M').any())"
   ]
  },
  {
   "cell_type": "code",
   "execution_count": 16,
   "metadata": {
    "ExecuteTime": {
     "end_time": "2023-07-29T09:54:10.001159900Z",
     "start_time": "2023-07-29T09:54:08.090030700Z"
    }
   },
   "outputs": [
    {
     "name": "stdout",
     "output_type": "stream",
     "text": [
      "Cash out transactions where the merchant is paid\n",
      "False\n"
     ]
    }
   ],
   "source": [
    "print(\"Cash out transactions where the merchant is paid\")\n",
    "print(df.loc[df.type=='CASH_OUT'].nameDest.str.contains('M').any())"
   ]
  },
  {
   "cell_type": "code",
   "execution_count": 17,
   "metadata": {
    "ExecuteTime": {
     "end_time": "2023-07-29T09:54:13.380296400Z",
     "start_time": "2023-07-29T09:54:10.004165Z"
    }
   },
   "outputs": [
    {
     "name": "stdout",
     "output_type": "stream",
     "text": [
      "Are there merchants in originator accounts False\n"
     ]
    }
   ],
   "source": [
    "print(\"Are there merchants in originator accounts\",df.nameOrig.str.contains('M').any())"
   ]
  },
  {
   "cell_type": "code",
   "execution_count": 18,
   "metadata": {
    "ExecuteTime": {
     "end_time": "2023-07-29T09:54:16.413446300Z",
     "start_time": "2023-07-29T09:54:13.383302900Z"
    }
   },
   "outputs": [
    {
     "name": "stdout",
     "output_type": "stream",
     "text": [
      "Are there merchants in destination accounts except Payment False\n"
     ]
    }
   ],
   "source": [
    "print(\"Are there merchants in destination accounts except Payment\",df.loc[df.type!='PAYMENT'].nameDest.str.contains('M').any())"
   ]
  },
  {
   "cell_type": "markdown",
   "metadata": {},
   "source": [
    "The merchants occur in an unexpected way"
   ]
  },
  {
   "cell_type": "code",
   "execution_count": 19,
   "metadata": {
    "ExecuteTime": {
     "end_time": "2023-07-29T09:54:16.486975700Z",
     "start_time": "2023-07-29T09:54:16.419449700Z"
    }
   },
   "outputs": [
    {
     "name": "stdout",
     "output_type": "stream",
     "text": [
      "False\n"
     ]
    }
   ],
   "source": [
    "fraud=transfer.nameDest.isin(cash_out.nameOrig).any()\n",
    "print(fraud)"
   ]
  },
  {
   "cell_type": "markdown",
   "metadata": {},
   "source": [
    "The data is not in accordance with the modus operandi"
   ]
  },
  {
   "cell_type": "code",
   "execution_count": 20,
   "metadata": {
    "ExecuteTime": {
     "end_time": "2023-07-29T09:54:19.962354200Z",
     "start_time": "2023-07-29T09:54:16.667913300Z"
    }
   },
   "outputs": [
    {
     "name": "stdout",
     "output_type": "stream",
     "text": [
      "         step      type      amount     nameOrig  oldbalanceOrg  \\\n",
      "1030443    65  TRANSFER  1282971.57  C1175896731     1282971.57   \n",
      "6039814   486  TRANSFER   214793.32  C2140495649      214793.32   \n",
      "6362556   738  TRANSFER   814689.88  C2029041842      814689.88   \n",
      "\n",
      "         newbalanceOrig     nameDest  oldbalanceDest  newbalanceDest  isFraud  \\\n",
      "1030443             0.0  C1714931087             0.0             0.0        1   \n",
      "6039814             0.0   C423543548             0.0             0.0        1   \n",
      "6362556             0.0  C1023330867             0.0             0.0        1   \n",
      "\n",
      "         isFlaggedFraud  \n",
      "1030443               0  \n",
      "6039814               0  \n",
      "6362556               0  \n"
     ]
    }
   ],
   "source": [
    "notfraud=df.loc[df.isFraud==0]\n",
    "print(transfer.loc[transfer.nameDest.isin(notfraud.loc[notfraud.type=='CASH_OUT'].nameOrig.drop_duplicates())])"
   ]
  },
  {
   "cell_type": "code",
   "execution_count": 21,
   "metadata": {
    "ExecuteTime": {
     "end_time": "2023-07-29T09:54:21.091218200Z",
     "start_time": "2023-07-29T09:54:19.963349900Z"
    }
   },
   "outputs": [
    {
     "name": "stdout",
     "output_type": "stream",
     "text": [
      "fraudulent tranfer to C423543548 occurs at step 486 and cashout from this account occurs at step [185]\n"
     ]
    }
   ],
   "source": [
    "print(\"fraudulent tranfer to C423543548 occurs at step 486 and cashout from this account occurs at step\",notfraud.loc[(notfraud.type=='CASH_OUT') & (notfraud.nameOrig==\"C423543548\")].step.values)"
   ]
  },
  {
   "cell_type": "markdown",
   "metadata": {},
   "source": [
    "Since it is observed that the above account does a genuine cash out at a later step but receives a fraudulent transfer before that, fraudulent transactions are not indicated by nameOrig and nameDest variables\n"
   ]
  },
  {
   "cell_type": "code",
   "execution_count": 22,
   "metadata": {
    "ExecuteTime": {
     "end_time": "2023-07-29T09:54:23.070222600Z",
     "start_time": "2023-07-29T09:54:21.097219400Z"
    }
   },
   "outputs": [],
   "source": [
    "X=df.loc[(df.type=='TRANSFER') | (df.type=='CASH_OUT')]\n",
    "X=X.drop(['nameOrig','nameDest','isFlaggedFraud'],axis=1)\n",
    "Y=X['isFraud']"
   ]
  },
  {
   "cell_type": "code",
   "execution_count": 23,
   "metadata": {
    "ExecuteTime": {
     "end_time": "2023-07-29T09:54:23.962736500Z",
     "start_time": "2023-07-29T09:54:23.076223300Z"
    }
   },
   "outputs": [],
   "source": [
    "X.loc[X.type=='TRANSFER','type']=0\n",
    "X.loc[X.type=='CASH_OUT','type']=1\n",
    "X.type=X.type.astype(int)"
   ]
  },
  {
   "cell_type": "code",
   "execution_count": 24,
   "metadata": {
    "ExecuteTime": {
     "end_time": "2023-07-29T09:54:24.013220700Z",
     "start_time": "2023-07-29T09:54:23.967743100Z"
    }
   },
   "outputs": [
    {
     "data": {
      "text/plain": "    step  type     amount  oldbalanceOrg  newbalanceOrig  oldbalanceDest  \\\n2      1     0     181.00          181.0             0.0             0.0   \n3      1     1     181.00          181.0             0.0         21182.0   \n15     1     1  229133.94        15325.0             0.0          5083.0   \n19     1     0  215310.30          705.0             0.0         22425.0   \n24     1     0  311685.89        10835.0             0.0          6267.0   \n\n    newbalanceDest  isFraud  \n2             0.00        1  \n3             0.00        1  \n15        51513.44        0  \n19            0.00        0  \n24      2719172.89        0  ",
      "text/html": "<div>\n<style scoped>\n    .dataframe tbody tr th:only-of-type {\n        vertical-align: middle;\n    }\n\n    .dataframe tbody tr th {\n        vertical-align: top;\n    }\n\n    .dataframe thead th {\n        text-align: right;\n    }\n</style>\n<table border=\"1\" class=\"dataframe\">\n  <thead>\n    <tr style=\"text-align: right;\">\n      <th></th>\n      <th>step</th>\n      <th>type</th>\n      <th>amount</th>\n      <th>oldbalanceOrg</th>\n      <th>newbalanceOrig</th>\n      <th>oldbalanceDest</th>\n      <th>newbalanceDest</th>\n      <th>isFraud</th>\n    </tr>\n  </thead>\n  <tbody>\n    <tr>\n      <th>2</th>\n      <td>1</td>\n      <td>0</td>\n      <td>181.00</td>\n      <td>181.0</td>\n      <td>0.0</td>\n      <td>0.0</td>\n      <td>0.00</td>\n      <td>1</td>\n    </tr>\n    <tr>\n      <th>3</th>\n      <td>1</td>\n      <td>1</td>\n      <td>181.00</td>\n      <td>181.0</td>\n      <td>0.0</td>\n      <td>21182.0</td>\n      <td>0.00</td>\n      <td>1</td>\n    </tr>\n    <tr>\n      <th>15</th>\n      <td>1</td>\n      <td>1</td>\n      <td>229133.94</td>\n      <td>15325.0</td>\n      <td>0.0</td>\n      <td>5083.0</td>\n      <td>51513.44</td>\n      <td>0</td>\n    </tr>\n    <tr>\n      <th>19</th>\n      <td>1</td>\n      <td>0</td>\n      <td>215310.30</td>\n      <td>705.0</td>\n      <td>0.0</td>\n      <td>22425.0</td>\n      <td>0.00</td>\n      <td>0</td>\n    </tr>\n    <tr>\n      <th>24</th>\n      <td>1</td>\n      <td>0</td>\n      <td>311685.89</td>\n      <td>10835.0</td>\n      <td>0.0</td>\n      <td>6267.0</td>\n      <td>2719172.89</td>\n      <td>0</td>\n    </tr>\n  </tbody>\n</table>\n</div>"
     },
     "execution_count": 24,
     "metadata": {},
     "output_type": "execute_result"
    }
   ],
   "source": [
    "X.head()"
   ]
  },
  {
   "cell_type": "code",
   "execution_count": 25,
   "metadata": {
    "ExecuteTime": {
     "end_time": "2023-07-29T09:54:24.267033100Z",
     "start_time": "2023-07-29T09:54:24.015221600Z"
    }
   },
   "outputs": [],
   "source": [
    "Xfraud=X.loc[Y==1]\n",
    "Xnonfraud=X.loc[Y==0]"
   ]
  },
  {
   "cell_type": "code",
   "execution_count": 26,
   "metadata": {
    "ExecuteTime": {
     "end_time": "2023-07-29T09:54:24.326053600Z",
     "start_time": "2023-07-29T09:54:24.250032900Z"
    }
   },
   "outputs": [
    {
     "name": "stdout",
     "output_type": "stream",
     "text": [
      "The fraction of fraudulent transactions with oldbalanceDest= newbalanceDest= 0 although the transacted amount is non-zero is:\n",
      " 0.49628637525873615\n"
     ]
    }
   ],
   "source": [
    "print(\"The fraction of fraudulent transactions with oldbalanceDest= newbalanceDest= 0 although the transacted amount is non-zero is:\\n\",len(Xfraud.loc[(Xfraud.oldbalanceDest==0) & (Xfraud.newbalanceDest==0)])/len(Xfraud))"
   ]
  },
  {
   "cell_type": "code",
   "execution_count": 27,
   "metadata": {
    "ExecuteTime": {
     "end_time": "2023-07-29T09:54:26.560387800Z",
     "start_time": "2023-07-29T09:54:24.290038300Z"
    }
   },
   "outputs": [
    {
     "name": "stdout",
     "output_type": "stream",
     "text": [
      "The fraction of genuine transactions with oldbalanceDest= newbalanceDest= 0 although the transacted amount is non-zero is:\n",
      " 0.0006176245277308345\n"
     ]
    }
   ],
   "source": [
    "print(\"The fraction of genuine transactions with oldbalanceDest= newbalanceDest= 0 although the transacted amount is non-zero is:\\n\",len(Xnonfraud.loc[(X.oldbalanceDest==0) & (X.newbalanceDest==0)])/len(Xnonfraud))"
   ]
  },
  {
   "cell_type": "code",
   "execution_count": 28,
   "metadata": {
    "ExecuteTime": {
     "end_time": "2023-07-29T09:54:26.691931500Z",
     "start_time": "2023-07-29T09:54:26.561391100Z"
    }
   },
   "outputs": [
    {
     "name": "stdout",
     "output_type": "stream",
     "text": [
      "The fraction of fraudulent transactions with oldbalanceOrg= newbalanceOrig= 0 although the transacted amount is non-zero is:\n",
      " 0.00499208571776452\n"
     ]
    }
   ],
   "source": [
    "print(\"The fraction of fraudulent transactions with oldbalanceOrg= newbalanceOrig= 0 although the transacted amount is non-zero is:\\n\",len(Xfraud.loc[(Xfraud.oldbalanceOrg==0) & (Xfraud.newbalanceOrig==0)])/len(Xfraud))"
   ]
  },
  {
   "cell_type": "code",
   "execution_count": 29,
   "metadata": {
    "ExecuteTime": {
     "end_time": "2023-07-29T09:54:27.139633100Z",
     "start_time": "2023-07-29T09:54:26.613387800Z"
    }
   },
   "outputs": [
    {
     "name": "stdout",
     "output_type": "stream",
     "text": [
      "The fraction of genuine transactions with oldbalanceOrg= newbalanceOrig= 0 although the transacted amount is non-zero is:\n",
      " 0.4737321319703598\n"
     ]
    }
   ],
   "source": [
    "print(\"The fraction of genuine transactions with oldbalanceOrg= newbalanceOrig= 0 although the transacted amount is non-zero is:\\n\",len(Xnonfraud.loc[(Xnonfraud.oldbalanceOrg==0) & (Xnonfraud.newbalanceOrig==0)])/len(Xnonfraud))"
   ]
  },
  {
   "cell_type": "code",
   "execution_count": 30,
   "metadata": {
    "ExecuteTime": {
     "end_time": "2023-07-29T09:54:27.335699200Z",
     "start_time": "2023-07-29T09:54:27.140636900Z"
    }
   },
   "outputs": [
    {
     "data": {
      "text/plain": "    step  type     amount  oldbalanceOrg  newbalanceOrig  oldbalanceDest  \\\n2      1     0     181.00          181.0             0.0            -1.0   \n3      1     1     181.00          181.0             0.0         21182.0   \n15     1     1  229133.94        15325.0             0.0          5083.0   \n19     1     0  215310.30          705.0             0.0         22425.0   \n24     1     0  311685.89        10835.0             0.0          6267.0   \n\n    newbalanceDest  isFraud  \n2            -1.00        1  \n3             0.00        1  \n15        51513.44        0  \n19            0.00        0  \n24      2719172.89        0  ",
      "text/html": "<div>\n<style scoped>\n    .dataframe tbody tr th:only-of-type {\n        vertical-align: middle;\n    }\n\n    .dataframe tbody tr th {\n        vertical-align: top;\n    }\n\n    .dataframe thead th {\n        text-align: right;\n    }\n</style>\n<table border=\"1\" class=\"dataframe\">\n  <thead>\n    <tr style=\"text-align: right;\">\n      <th></th>\n      <th>step</th>\n      <th>type</th>\n      <th>amount</th>\n      <th>oldbalanceOrg</th>\n      <th>newbalanceOrig</th>\n      <th>oldbalanceDest</th>\n      <th>newbalanceDest</th>\n      <th>isFraud</th>\n    </tr>\n  </thead>\n  <tbody>\n    <tr>\n      <th>2</th>\n      <td>1</td>\n      <td>0</td>\n      <td>181.00</td>\n      <td>181.0</td>\n      <td>0.0</td>\n      <td>-1.0</td>\n      <td>-1.00</td>\n      <td>1</td>\n    </tr>\n    <tr>\n      <th>3</th>\n      <td>1</td>\n      <td>1</td>\n      <td>181.00</td>\n      <td>181.0</td>\n      <td>0.0</td>\n      <td>21182.0</td>\n      <td>0.00</td>\n      <td>1</td>\n    </tr>\n    <tr>\n      <th>15</th>\n      <td>1</td>\n      <td>1</td>\n      <td>229133.94</td>\n      <td>15325.0</td>\n      <td>0.0</td>\n      <td>5083.0</td>\n      <td>51513.44</td>\n      <td>0</td>\n    </tr>\n    <tr>\n      <th>19</th>\n      <td>1</td>\n      <td>0</td>\n      <td>215310.30</td>\n      <td>705.0</td>\n      <td>0.0</td>\n      <td>22425.0</td>\n      <td>0.00</td>\n      <td>0</td>\n    </tr>\n    <tr>\n      <th>24</th>\n      <td>1</td>\n      <td>0</td>\n      <td>311685.89</td>\n      <td>10835.0</td>\n      <td>0.0</td>\n      <td>6267.0</td>\n      <td>2719172.89</td>\n      <td>0</td>\n    </tr>\n  </tbody>\n</table>\n</div>"
     },
     "execution_count": 30,
     "metadata": {},
     "output_type": "execute_result"
    }
   ],
   "source": [
    "X.loc[(X.oldbalanceDest==0) & (X.newbalanceDest==0) & (X.amount!=0),['oldbalanceDest','newbalanceDest']]=-1\n",
    "X.head()"
   ]
  },
  {
   "cell_type": "code",
   "execution_count": 31,
   "metadata": {
    "ExecuteTime": {
     "end_time": "2023-07-29T09:54:27.607805100Z",
     "start_time": "2023-07-29T09:54:27.325181700Z"
    }
   },
   "outputs": [],
   "source": [
    "X.loc[(X.oldbalanceOrg==0) & (X.newbalanceOrig==0) & (X.amount!=0),['oldbalanceOrg','newbalanceOrig']]=np.nan"
   ]
  },
  {
   "cell_type": "code",
   "execution_count": 32,
   "metadata": {
    "ExecuteTime": {
     "end_time": "2023-07-29T09:54:27.783884800Z",
     "start_time": "2023-07-29T09:54:27.582806400Z"
    }
   },
   "outputs": [],
   "source": [
    "X['errorBalOrig']=X.oldbalanceOrg+X.amount-X.newbalanceOrig\n",
    "X['errorBalDest']=X.oldbalanceDest+X.amount-X.newbalanceDest"
   ]
  },
  {
   "cell_type": "code",
   "execution_count": 33,
   "metadata": {
    "ExecuteTime": {
     "end_time": "2023-07-29T09:54:30.186870800Z",
     "start_time": "2023-07-29T09:54:27.781885700Z"
    }
   },
   "outputs": [
    {
     "data": {
      "text/plain": "<Axes: xlabel='isFraud', ylabel='step'>"
     },
     "execution_count": 33,
     "metadata": {},
     "output_type": "execute_result"
    },
    {
     "data": {
      "text/plain": "<Figure size 640x480 with 1 Axes>",
      "image/png": "[encoded data removed]"
     },
     "metadata": {},
     "output_type": "display_data"
    }
   ],
   "source": [
    "sns.boxplot(x='isFraud',y='step',data=X)"
   ]
  }
 ],
 "metadata": {
  "kernelspec": {
   "display_name": "Python 3",
   "language": "python",
   "name": "python3"
  },
  "language_info": {
   "codemirror_mode": {
    "name": "ipython",
    "version": 3
   },
   "file_extension": ".py",
   "mimetype": "text/x-python",
   "name": "python",
   "nbconvert_exporter": "python",
   "pygments_lexer": "ipython3",
   "version": "3.6.6"
  }
 },
 "nbformat": 4,
 "nbformat_minor": 4
}
